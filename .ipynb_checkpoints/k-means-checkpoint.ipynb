{
 "cells": [
  {
   "cell_type": "markdown",
   "metadata": {},
   "source": [
    "# K-Means\n",
    "很简单的算法：\n",
    "\n",
    "1.选择分类的数量k\n",
    "\n",
    "2.随机选择k个点作为初始的聚类中心，每个中心代表一类\n",
    "\n",
    "3.计算每个点到中心的距离，并将每个点标记为其最靠近中心的类别\n",
    "\n",
    "4.根据每个中心所拥有的点，计算这些点的重心作为新的中心\n",
    "\n",
    "5.重复3、4直到算法收敛\n",
    "\n",
    "* 算法有收敛到局部最优的可能，所以需要多次初始化，选择最终误差最小的结果作为聚类结果,误差计算公式为\n",
    "\n",
    "$J = \\sum_{i=1}^{m}\\Vert x^{(i)} - c^{(i)} \\Vert^{2} $\n",
    "\n",
    "其中 $c^{(i)}$ 代表 $x^{(i)}$ 所属类别\n",
    "\n",
    "**总结**\n",
    "\n",
    "* scipy.io 可以直接导入.mat的变量\n",
    "```\n",
    "import scipy.io as sio\n",
    "data = sio.loadmat('*.mat')\n",
    "X = data['X']\n",
    "```\n",
    "* numpy 计算范数\n",
    "```\n",
    "import numpy as np\n",
    "x = np.array([1,2])\n",
    "x_norm = np.linalg.norm(x)\n",
    "```"
   ]
  },
  {
   "cell_type": "code",
   "execution_count": 19,
   "metadata": {},
   "outputs": [],
   "source": [
    "import scipy.io as sio  \n",
    "import matplotlib.pyplot as plt  \n",
    "import numpy as np  "
   ]
  },
  {
   "cell_type": "code",
   "execution_count": 2,
   "metadata": {},
   "outputs": [
    {
     "data": {
      "text/plain": [
       "<matplotlib.collections.PathCollection at 0x7f43aa4bb240>"
      ]
     },
     "execution_count": 2,
     "metadata": {},
     "output_type": "execute_result"
    },
    {
     "data": {
      "image/png": "[encoded data removed]",
      "text/plain": [
       "<matplotlib.figure.Figure at 0x7f43b2a38dd8>"
      ]
     },
     "metadata": {},
     "output_type": "display_data"
    }
   ],
   "source": [
    "data = sio.loadmat('ex7data2.mat')\n",
    "X = data['X']\n",
    "plt.scatter(X[:,0],X[:,1])"
   ]
  },
  {
   "cell_type": "code",
   "execution_count": 6,
   "metadata": {},
   "outputs": [],
   "source": [
    "class k_means:\n",
    "    def __init__(self,X):\n",
    "        self.colors = ['b','g','r','c','m','y','k','w']\n",
    "        self.k = 0\n",
    "        self.X = X\n",
    "        self.m = self.X.shape[0]\n",
    "        \n",
    "    \n",
    "    def randomly_init(self):\n",
    "        self.choice = np.random.randint(0,self.m,(self.k,))\n",
    "        self.c = self.X[self.choice,:]\n",
    "        #print(self.c)\n",
    "\n",
    "    \n",
    "    \n",
    "    def cost(self,idxs):\n",
    "        J = 0\n",
    "        for i in range(self.k):\n",
    "            J += np.linalg.norm(self.X[idxs==i,:] - self.c[i,:])**2\n",
    "        J /= self.m\n",
    "        return J\n",
    "        \n",
    "    \n",
    "    def assign_x(self):\n",
    "        idxs = np.zeros((self.X.shape[0],),dtype=int)\n",
    "        for i in range(idxs.shape[0]):\n",
    "            idxs[i] = 0\n",
    "            dist = np.linalg.norm(self.X[i,:] - self.c[0,:])\n",
    "            for j in range(1,self.c.shape[0]):\n",
    "                kdist = np.linalg.norm(self.X[i,:] - self.c[j,:])\n",
    "                if kdist < dist:\n",
    "                    dist = kdist\n",
    "                    idxs[i] = j\n",
    "        return idxs\n",
    "                    \n",
    "    def reset_centroids(self,idxs):\n",
    "        centroids = np.zeros((self.k,self.X.shape[1]))\n",
    "        for i in range(centroids.shape[0]):\n",
    "            centroids[i,:] = X[idxs==i,:].mean(0)\n",
    "        self.c = centroids\n",
    "        \n",
    "    def train(self,row,col,k,draw=True):\n",
    "        self.k = k\n",
    "        self.randomly_init()\n",
    "        for i in range(row*col):\n",
    "            idxs = self.assign_x()\n",
    "            self.reset_centroids(idxs)\n",
    "            if draw:\n",
    "                plt.subplot(row,col,i+1)\n",
    "                for j in range(self.k):\n",
    "                    plt.scatter(self.X[idxs==j,0],self.X[idxs==j,1],color=self.colors[j],s=4)\n",
    "                    plt.scatter(self.c[j,0],self.c[j,1],marker='x',color=self.colors[(j+1)%8],s=100)\n",
    "        return self.cost(idxs)"
   ]
  },
  {
   "cell_type": "code",
   "execution_count": 7,
   "metadata": {},
   "outputs": [],
   "source": [
    "k = k_means(X)"
   ]
  },
  {
   "cell_type": "markdown",
   "metadata": {},
   "source": [
    "## 绘制Elbow曲线选择最优的k"
   ]
  },
  {
   "cell_type": "code",
   "execution_count": 8,
   "metadata": {},
   "outputs": [
    {
     "name": "stderr",
     "output_type": "stream",
     "text": [
      "/home/luo3300612/anaconda3/lib/python3.6/site-packages/ipykernel_launcher.py:39: RuntimeWarning: Mean of empty slice.\n",
      "/home/luo3300612/anaconda3/lib/python3.6/site-packages/numpy/core/_methods.py:73: RuntimeWarning: invalid value encountered in true_divide\n",
      "  ret, rcount, out=ret, casting='unsafe', subok=False)\n"
     ]
    }
   ],
   "source": [
    "clses = list(range(1,9))\n",
    "lost = 10*np.ones(8)\n",
    "for cls in clses:\n",
    "    for i in range(10):\n",
    "        cost = k.train(2,5,cls,False)\n",
    "        if cost < lost[cls-1]:\n",
    "            lost[cls-1] = cost"
   ]
  },
  {
   "cell_type": "code",
   "execution_count": 24,
   "metadata": {},
   "outputs": [
    {
     "data": {
      "text/plain": [
       "Text(0.5,1,'Elbow Curve')"
      ]
     },
     "execution_count": 24,
     "metadata": {},
     "output_type": "execute_result"
    },
    {
     "name": "stderr",
     "output_type": "stream",
     "text": [
      "/home/luo3300612/anaconda3/lib/python3.6/site-packages/matplotlib/font_manager.py:1320: UserWarning: findfont: Font family ['sans-serif'] not found. Falling back to DejaVu Sans\n",
      "  (prop.get_family(), self.defaultFamily[fontext]))\n"
     ]
    },
    {
     "data": {
      "image/png": "[encoded data removed]",
      "text/plain": [
       "<matplotlib.figure.Figure at 0x7f43a8dc8828>"
      ]
     },
     "metadata": {},
     "output_type": "display_data"
    }
   ],
   "source": [
    "plt.plot(clses,lost,marker='*',c='y')\n",
    "plt.xlabel(u'k')\n",
    "plt.ylabel(u'error')\n",
    "plt.title(u'Elbow Curve')"
   ]
  },
  {
   "cell_type": "markdown",
   "metadata": {},
   "source": [
    "### k<3误差下降迅速，k>3时误差下降缓慢，故选择k=3"
   ]
  },
  {
   "cell_type": "code",
   "execution_count": 11,
   "metadata": {},
   "outputs": [
    {
     "data": {
      "image/png": "[encoded data removed]",
      "text/plain": [
       "<matplotlib.figure.Figure at 0x7f43aa0279e8>"
      ]
     },
     "metadata": {},
     "output_type": "display_data"
    }
   ],
   "source": [
    "cost = k.train(2,5,3)"
   ]
  },
  {
   "cell_type": "code",
   "execution_count": null,
   "metadata": {},
   "outputs": [],
   "source": []
  }
 ],
 "metadata": {
  "kernelspec": {
   "display_name": "Python 3",
   "language": "python",
   "name": "python3"
  },
  "language_info": {
   "codemirror_mode": {
    "name": "ipython",
    "version": 3
   },
   "file_extension": ".py",
   "mimetype": "text/x-python",
   "name": "python",
   "nbconvert_exporter": "python",
   "pygments_lexer": "ipython3",
   "version": "3.6.4"
  }
 },
 "nbformat": 4,
 "nbformat_minor": 2
}
